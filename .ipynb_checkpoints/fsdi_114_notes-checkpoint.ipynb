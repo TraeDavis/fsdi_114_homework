{
 "cells": [
  {
   "cell_type": "code",
   "execution_count": 2,
   "id": "06375696",
   "metadata": {},
   "outputs": [
    {
     "name": "stdout",
     "output_type": "stream",
     "text": [
      "h\n",
      "e\n",
      "l\n",
      "l\n",
      "o\n",
      ",\n",
      " \n",
      "w\n",
      "o\n",
      "r\n",
      "l\n",
      "d\n"
     ]
    }
   ],
   "source": [
    "for letter in \"hello, world\":\n",
    "    print(letter)"
   ]
  },
  {
   "cell_type": "markdown",
   "id": "60995195",
   "metadata": {},
   "source": [
    "# Problem 1\n",
    "\n",
    "### Given two strings (string_a and string_b) let's check whether or not they are anagrams of each other given the following criteria:\n",
    "> Two strings are only anagrams of each other if all conditions below are met:\n",
    "> * They must be exactly the same length.\n",
    "> * They must use exactly the same characters (no more, no less)\n",
    "Example: cars ands scar, heart and earth, etc."
   ]
  },
  {
   "cell_type": "code",
   "execution_count": 19,
   "id": "4d754a36",
   "metadata": {},
   "outputs": [],
   "source": [
    "def is_anagram(string_a, string_b):\n",
    "    string_a = string_a.lower().replace(\" \", \"\")\n",
    "    string_b = string_b.lower().replace(\" \", \"\")\n",
    "    if len(string_a) != len(string_b):         # covering the length case\n",
    "        return False                           # simple edge case\n",
    "    char_times_a = dict()                      # Lets use two dicts to count,\n",
    "    char_times_b = dict()                      # the number of ocurrences per char.\n",
    "    for i in range(len(string_a)):             # Because we know these are of equal len\n",
    "        if string_a[i] not in char_times_a.keys(): # We can simply count how many times we\n",
    "            char_times_a[string_a[i]] = 0          # see each character.\n",
    "        else:\n",
    "            char_times_a[string_a[i]] +=1\n",
    "        if string_b[i] not in char_times_b.keys():\n",
    "            char_times_b[string_b[i]] = 0          # it doesn't matter that these are\n",
    "        else:                                      # different chars that i is accessing.\n",
    "            char_times_b[string_b[i]] +=1\n",
    "    return char_times_a == char_times_b            #... As long as these two are equal.\n",
    "        "
   ]
  },
  {
   "cell_type": "code",
   "execution_count": 16,
   "id": "a6ed0613",
   "metadata": {},
   "outputs": [
    {
     "data": {
      "text/plain": [
       "True"
      ]
     },
     "execution_count": 16,
     "metadata": {},
     "output_type": "execute_result"
    }
   ],
   "source": [
    "is_anagram(\"cars\", \"scar\")"
   ]
  },
  {
   "cell_type": "code",
   "execution_count": 17,
   "id": "32af0a70",
   "metadata": {},
   "outputs": [
    {
     "data": {
      "text/plain": [
       "True"
      ]
     },
     "execution_count": 17,
     "metadata": {},
     "output_type": "execute_result"
    }
   ],
   "source": [
    "is_anagram(\"Cars\", \"scar\")"
   ]
  },
  {
   "cell_type": "code",
   "execution_count": 20,
   "id": "86735212",
   "metadata": {},
   "outputs": [
    {
     "data": {
      "text/plain": [
       "True"
      ]
     },
     "execution_count": 20,
     "metadata": {},
     "output_type": "execute_result"
    }
   ],
   "source": [
    "is_anagram(\"I am Lord Voldemort\", \"Tom Marvolo Riddle\")"
   ]
  },
  {
   "cell_type": "code",
   "execution_count": 3,
   "id": "3885dd5b",
   "metadata": {},
   "outputs": [],
   "source": [
    "class Stack:\n",
    "    def __init__(self):\n",
    "        self.items = []\n",
    "        \n",
    "    def is_empty(self):\n",
    "        return self.items == []\n",
    "    \n",
    "    def push(self, item):\n",
    "        self.items.append(item)\n",
    "        \n",
    "    def pop(self):\n",
    "        return self.items.pop()\n",
    "    \n",
    "    def peek(self):\n",
    "        return self.items[len(self.items)-1]\n",
    "    \n",
    "    def size(self):\n",
    "        return len(self.items)"
   ]
  },
  {
   "cell_type": "code",
   "execution_count": 4,
   "id": "d30a5ab2",
   "metadata": {},
   "outputs": [],
   "source": [
    "def reverse_str(s):\n",
    "    stack = Stack()\n",
    "    for char in s:\n",
    "        stack.push(char)\n",
    "    tempstr = \"\"\n",
    "    while not stack.is_empty():\n",
    "        tempstr += stack.pop()\n",
    "    return tempstr\n",
    "    "
   ]
  },
  {
   "cell_type": "code",
   "execution_count": 5,
   "id": "3566eec5",
   "metadata": {},
   "outputs": [],
   "source": [
    "def test_reverse_str():\n",
    "    assert reverse_str(\"racecar\") == reverse_str(\"racecar\")\n",
    "    assert reverse_str(\"SDGKU\") == reverse_str(\"UKGDS\")\n",
    "    assert reverse_str(\"ping pong\") == reverse_str(\"gnop gnip\")"
   ]
  },
  {
   "cell_type": "code",
   "execution_count": 6,
   "id": "70331dfd",
   "metadata": {},
   "outputs": [],
   "source": [
    "class Queue:\n",
    "    def __init__(self):\n",
    "        self.items = []\n",
    "        \n",
    "    def is_empty(self):\n",
    "        return self.items == []\n",
    "    \n",
    "    def enqueue(self, item):\n",
    "        self.items.insert(0, item)\n",
    "        \n",
    "    def dequeue(self):\n",
    "        return self.items.pop()\n",
    "    \n",
    "    def size(self):\n",
    "        return len(self.items)\n",
    "    \n",
    "    "
   ]
  },
  {
   "cell_type": "code",
   "execution_count": 7,
   "id": "d9625eaa",
   "metadata": {},
   "outputs": [],
   "source": [
    "from string import ascii_lowercase\n",
    "from random import randint, choice\n",
    "from time import sleep\n",
    "\n",
    "def register_visitors(visitor_queue):\n",
    "    for char in ascii_lowercase:\n",
    "        visitor_queue.enqueue(char)\n",
    "\n",
    "    \n",
    "def service_customers(visitor_queue):\n",
    "    bank_tellers = [\"A\", \"B\", \"C\", \"D\", \"E\", \"F\", \"G\"]\n",
    "    while not visitor_queue.is_empty():\n",
    "        visitor = visitor_queue.dequeue()\n",
    "        print(\"Thank you for waiting %s, station %s is ready for you.\" % (visitor, choice(bank_tellers)))\n",
    "        sleep(randint(1,2))\n",
    "    print(\"Empty visitor queue.\")\n",
    "    \n",
    "def main():\n",
    "    visitor_queue = Queue()\n",
    "    register_visitors(visitor_queue)\n",
    "    service_customers(visitor_queue)"
   ]
  },
  {
   "cell_type": "code",
   "execution_count": 8,
   "id": "a51ee838",
   "metadata": {},
   "outputs": [
    {
     "name": "stdout",
     "output_type": "stream",
     "text": [
      "Thank you for waiting a, station B is ready for you.\n",
      "Thank you for waiting b, station A is ready for you.\n",
      "Thank you for waiting c, station C is ready for you.\n",
      "Thank you for waiting d, station D is ready for you.\n",
      "Thank you for waiting e, station D is ready for you.\n",
      "Thank you for waiting f, station F is ready for you.\n",
      "Thank you for waiting g, station F is ready for you.\n",
      "Thank you for waiting h, station B is ready for you.\n",
      "Thank you for waiting i, station E is ready for you.\n",
      "Thank you for waiting j, station A is ready for you.\n",
      "Thank you for waiting k, station F is ready for you.\n",
      "Thank you for waiting l, station G is ready for you.\n",
      "Thank you for waiting m, station F is ready for you.\n",
      "Thank you for waiting n, station B is ready for you.\n",
      "Thank you for waiting o, station G is ready for you.\n",
      "Thank you for waiting p, station G is ready for you.\n",
      "Thank you for waiting q, station B is ready for you.\n",
      "Thank you for waiting r, station F is ready for you.\n",
      "Thank you for waiting s, station D is ready for you.\n",
      "Thank you for waiting t, station B is ready for you.\n"
     ]
    },
    {
     "ename": "KeyboardInterrupt",
     "evalue": "",
     "output_type": "error",
     "traceback": [
      "\u001b[0;31m---------------------------------------------------------------------------\u001b[0m",
      "\u001b[0;31mKeyboardInterrupt\u001b[0m                         Traceback (most recent call last)",
      "\u001b[0;32m<ipython-input-8-263240bbee7e>\u001b[0m in \u001b[0;36m<module>\u001b[0;34m\u001b[0m\n\u001b[0;32m----> 1\u001b[0;31m \u001b[0mmain\u001b[0m\u001b[0;34m(\u001b[0m\u001b[0;34m)\u001b[0m\u001b[0;34m\u001b[0m\u001b[0;34m\u001b[0m\u001b[0m\n\u001b[0m",
      "\u001b[0;32m<ipython-input-7-37c9e8752ff6>\u001b[0m in \u001b[0;36mmain\u001b[0;34m()\u001b[0m\n\u001b[1;32m     19\u001b[0m     \u001b[0mvisitor_queue\u001b[0m \u001b[0;34m=\u001b[0m \u001b[0mQueue\u001b[0m\u001b[0;34m(\u001b[0m\u001b[0;34m)\u001b[0m\u001b[0;34m\u001b[0m\u001b[0;34m\u001b[0m\u001b[0m\n\u001b[1;32m     20\u001b[0m     \u001b[0mregister_visitors\u001b[0m\u001b[0;34m(\u001b[0m\u001b[0mvisitor_queue\u001b[0m\u001b[0;34m)\u001b[0m\u001b[0;34m\u001b[0m\u001b[0;34m\u001b[0m\u001b[0m\n\u001b[0;32m---> 21\u001b[0;31m     \u001b[0mservice_customers\u001b[0m\u001b[0;34m(\u001b[0m\u001b[0mvisitor_queue\u001b[0m\u001b[0;34m)\u001b[0m\u001b[0;34m\u001b[0m\u001b[0;34m\u001b[0m\u001b[0m\n\u001b[0m",
      "\u001b[0;32m<ipython-input-7-37c9e8752ff6>\u001b[0m in \u001b[0;36mservice_customers\u001b[0;34m(visitor_queue)\u001b[0m\n\u001b[1;32m     13\u001b[0m         \u001b[0mvisitor\u001b[0m \u001b[0;34m=\u001b[0m \u001b[0mvisitor_queue\u001b[0m\u001b[0;34m.\u001b[0m\u001b[0mdequeue\u001b[0m\u001b[0;34m(\u001b[0m\u001b[0;34m)\u001b[0m\u001b[0;34m\u001b[0m\u001b[0;34m\u001b[0m\u001b[0m\n\u001b[1;32m     14\u001b[0m         \u001b[0mprint\u001b[0m\u001b[0;34m(\u001b[0m\u001b[0;34m\"Thank you for waiting %s, station %s is ready for you.\"\u001b[0m \u001b[0;34m%\u001b[0m \u001b[0;34m(\u001b[0m\u001b[0mvisitor\u001b[0m\u001b[0;34m,\u001b[0m \u001b[0mchoice\u001b[0m\u001b[0;34m(\u001b[0m\u001b[0mbank_tellers\u001b[0m\u001b[0;34m)\u001b[0m\u001b[0;34m)\u001b[0m\u001b[0;34m)\u001b[0m\u001b[0;34m\u001b[0m\u001b[0;34m\u001b[0m\u001b[0m\n\u001b[0;32m---> 15\u001b[0;31m         \u001b[0msleep\u001b[0m\u001b[0;34m(\u001b[0m\u001b[0mrandint\u001b[0m\u001b[0;34m(\u001b[0m\u001b[0;36m1\u001b[0m\u001b[0;34m,\u001b[0m\u001b[0;36m2\u001b[0m\u001b[0;34m)\u001b[0m\u001b[0;34m)\u001b[0m\u001b[0;34m\u001b[0m\u001b[0;34m\u001b[0m\u001b[0m\n\u001b[0m\u001b[1;32m     16\u001b[0m     \u001b[0mprint\u001b[0m\u001b[0;34m(\u001b[0m\u001b[0;34m\"Empty visitor queue.\"\u001b[0m\u001b[0;34m)\u001b[0m\u001b[0;34m\u001b[0m\u001b[0;34m\u001b[0m\u001b[0m\n\u001b[1;32m     17\u001b[0m \u001b[0;34m\u001b[0m\u001b[0m\n",
      "\u001b[0;31mKeyboardInterrupt\u001b[0m: "
     ]
    }
   ],
   "source": [
    "main()"
   ]
  },
  {
   "cell_type": "code",
   "execution_count": null,
   "id": "d01b4129",
   "metadata": {},
   "outputs": [],
   "source": [
    "def balance_check(s):\n",
    "    if len(s)%2 != 0:\n",
    "        return False\n",
    "    opening = set(\"([{\")\n",
    "    matches = set([(\"(\", \")\"), (\"[\", \"]\"), (\"{\", \"}\")])\n",
    "    stack = Stack()\n",
    "    for paren in s:\n",
    "        if paren in opening:\n",
    "            stack.push(paren)\n",
    "        else:\n",
    "            if stack.is_empty():\n",
    "                return False\n",
    "            last_open = stack.pop()\n",
    "            if(last_open, paren) not in matches:\n",
    "                return False\n",
    "    return stack.is_empty()\n",
    "        \n",
    "    \n",
    "        "
   ]
  },
  {
   "cell_type": "code",
   "execution_count": 11,
   "id": "dd9f7f92",
   "metadata": {},
   "outputs": [
    {
     "data": {
      "text/plain": [
       "True"
      ]
     },
     "execution_count": 11,
     "metadata": {},
     "output_type": "execute_result"
    }
   ],
   "source": [
    "balance_check(\"([{([])}])\")"
   ]
  },
  {
   "cell_type": "code",
   "execution_count": 6,
   "id": "09a11500",
   "metadata": {},
   "outputs": [],
   "source": [
    "class Queue2Stacks:\n",
    "    def __init__(self):\n",
    "        self.stack1 = []\n",
    "        self.stack2 = []\n",
    "        \n",
    "    def invert(self):\n",
    "        if self.stack1:\n",
    "            while self.stack1:\n",
    "                item = self.stack1.pop()\n",
    "                self.stack2.append(item)\n",
    "        \n",
    "    def enqueue(self, element):\n",
    "        self.stack1.append(element)\n",
    "        \n",
    "    def dequeue(self):\n",
    "        self.invert()\n",
    "        return self.stack2.pop()\n",
    "              \n",
    "            \n",
    "        \n",
    "def main():\n",
    "    my_queue = Queue2Stacks()\n",
    "    data = 'trae'\n",
    "    for char in data:\n",
    "        my_queue.enqueue(char)\n",
    "    my_string = ''\n",
    "    for _ in range(len(data)):\n",
    "        my_string += my_queue.dequeue()\n",
    "    print(my_string)\n",
    "        "
   ]
  },
  {
   "cell_type": "code",
   "execution_count": 7,
   "id": "d908d587",
   "metadata": {},
   "outputs": [
    {
     "name": "stdout",
     "output_type": "stream",
     "text": [
      "trae\n"
     ]
    }
   ],
   "source": [
    "main()"
   ]
  },
  {
   "cell_type": "code",
   "execution_count": 8,
   "id": "a3e55ac2",
   "metadata": {},
   "outputs": [],
   "source": [
    "def fact(n):\n",
    "    if n == 0:\n",
    "        return 1\n",
    "    return n*fact(n-1)"
   ]
  },
  {
   "cell_type": "code",
   "execution_count": 11,
   "id": "c811c93c",
   "metadata": {},
   "outputs": [
    {
     "data": {
      "text/plain": [
       "120"
      ]
     },
     "execution_count": 11,
     "metadata": {},
     "output_type": "execute_result"
    }
   ],
   "source": [
    "fact(5)"
   ]
  },
  {
   "cell_type": "code",
   "execution_count": 22,
   "id": "4d39ef65",
   "metadata": {},
   "outputs": [],
   "source": [
    "from functools import lru_cache\n",
    "\n",
    "@lru_cache\n",
    "def fib(n):\n",
    "    if n < 2:\n",
    "        return n\n",
    "    return fib(n-1) + fib(n-2)"
   ]
  },
  {
   "cell_type": "code",
   "execution_count": 30,
   "id": "751a4ef3",
   "metadata": {},
   "outputs": [
    {
     "data": {
      "text/plain": [
       "354224848179261915075"
      ]
     },
     "execution_count": 30,
     "metadata": {},
     "output_type": "execute_result"
    }
   ],
   "source": [
    "fib(100)"
   ]
  },
  {
   "cell_type": "code",
   "execution_count": null,
   "id": "cba56e60",
   "metadata": {},
   "outputs": [],
   "source": []
  }
 ],
 "metadata": {
  "kernelspec": {
   "display_name": "Python 3",
   "language": "python",
   "name": "python3"
  },
  "language_info": {
   "codemirror_mode": {
    "name": "ipython",
    "version": 3
   },
   "file_extension": ".py",
   "mimetype": "text/x-python",
   "name": "python",
   "nbconvert_exporter": "python",
   "pygments_lexer": "ipython3",
   "version": "3.8.5"
  }
 },
 "nbformat": 4,
 "nbformat_minor": 5
}
